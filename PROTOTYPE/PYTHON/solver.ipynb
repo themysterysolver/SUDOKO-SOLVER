{
 "cells": [
  {
   "cell_type": "markdown",
   "id": "22eec7ba",
   "metadata": {},
   "source": [
    "## SUDOKO SOLVER PYTHON REVISION"
   ]
  },
  {
   "cell_type": "code",
   "execution_count": 1,
   "id": "65a6bafd",
   "metadata": {},
   "outputs": [],
   "source": [
    "import pandas as pd\n",
    "import numpy as np"
   ]
  },
  {
   "cell_type": "code",
   "execution_count": 2,
   "id": "dd552424",
   "metadata": {},
   "outputs": [
    {
     "name": "stdout",
     "output_type": "stream",
     "text": [
      "2.2.2\n",
      "1.26.4\n"
     ]
    }
   ],
   "source": [
    "print(pd.__version__)\n",
    "print(np.__version__)"
   ]
  },
  {
   "cell_type": "code",
   "execution_count": 6,
   "id": "e1c64063",
   "metadata": {},
   "outputs": [],
   "source": [
    "df=pd.read_csv('sudoko.csv')"
   ]
  },
  {
   "cell_type": "code",
   "execution_count": 11,
   "id": "cdf0bc2c",
   "metadata": {},
   "outputs": [
    {
     "name": "stdout",
     "output_type": "stream",
     "text": [
      "   070000043040009610800634900094052000358460020000800530080070091902100005007040802  \\\n",
      "0   3010865040465210705000000014008000020803479000...                                  \n",
      "1   0483015603600080909106700030200009355090102006...                                  \n",
      "2   0083170000042051090000400703271609049014500000...                                  \n",
      "3   0408906300001368208007405190004670524500207002...                                  \n",
      "4   5610927300207800909000050466000004270100700030...                                  \n",
      "..                                                ...                                  \n",
      "93  0009630003015204900600013258102905740960001300...                                  \n",
      "94  0506000410030456009608003006000001000070082044...                                  \n",
      "95  7635412890480090500098600704760030955300960020...                                  \n",
      "96  6000539040006000820987123057803045201092007065...                                  \n",
      "97  4078510300004708050010326400187234006700890209...                                  \n",
      "\n",
      "   679518243543729618821634957794352186358461729216897534485276391962183475137945862  \n",
      "0   3719865248465213795924738614638197522853479167...                                 \n",
      "1   7483915623652487919126754834217869355894132766...                                 \n",
      "2   2983176457642851391539462783271689549814537266...                                 \n",
      "3   1428956379751368248367425193984671524513287962...                                 \n",
      "4   5614927383247861959873152466598314274182795632...                                 \n",
      "..                                                ...                                 \n",
      "93  2549638173815274967694813258132965744968751325...                                 \n",
      "94  2586937411732456989648173256954321873179582644...                                 \n",
      "95  7635412892483796511598623744762831955317968428...                                 \n",
      "96  6128539743756491824987123657863945211392857465...                                 \n",
      "97  4678519322934768158519326475187234966745891239...                                 \n",
      "\n",
      "[98 rows x 2 columns]\n",
      "196 (98, 2)\n"
     ]
    }
   ],
   "source": [
    "print(df)\n",
    "print(df.size,df.shape)"
   ]
  },
  {
   "cell_type": "code",
   "execution_count": 15,
   "id": "d47674dc",
   "metadata": {},
   "outputs": [],
   "source": [
    "test1=df.iloc[:0,:]"
   ]
  },
  {
   "cell_type": "code",
   "execution_count": 16,
   "id": "66e2778f",
   "metadata": {},
   "outputs": [
    {
     "name": "stdout",
     "output_type": "stream",
     "text": [
      "Empty DataFrame\n",
      "Columns: [070000043040009610800634900094052000358460020000800530080070091902100005007040802, 679518243543729618821634957794352186358461729216897534485276391962183475137945862]\n",
      "Index: []\n"
     ]
    }
   ],
   "source": [
    "print(test1)"
   ]
  },
  {
   "cell_type": "code",
   "execution_count": 17,
   "id": "7abe461d",
   "metadata": {},
   "outputs": [],
   "source": [
    "key,ans=test1"
   ]
  },
  {
   "cell_type": "code",
   "execution_count": 20,
   "id": "f089a6f7",
   "metadata": {},
   "outputs": [
    {
     "name": "stdout",
     "output_type": "stream",
     "text": [
      "070000043040009610800634900094052000358460020000800530080070091902100005007040802 <class 'str'>\n",
      "679518243543729618821634957794352186358461729216897534485276391962183475137945862 <class 'str'>\n"
     ]
    }
   ],
   "source": [
    "print(key,type(key))\n",
    "print(ans,type(ans))"
   ]
  },
  {
   "cell_type": "code",
   "execution_count": 21,
   "id": "522c51d4",
   "metadata": {},
   "outputs": [],
   "source": [
    "def display(mat):\n",
    "    for row in mat:\n",
    "        print(row)\n",
    "    print('-----------')"
   ]
  },
  {
   "cell_type": "code",
   "execution_count": 25,
   "id": "ae87d65a",
   "metadata": {},
   "outputs": [],
   "source": [
    "import re"
   ]
  },
  {
   "cell_type": "code",
   "execution_count": 27,
   "id": "f97b7833",
   "metadata": {},
   "outputs": [
    {
     "name": "stdout",
     "output_type": "stream",
     "text": [
      "['0', '7', '0', '0', '0', '0', '0', '4', '3']\n",
      "['0', '4', '0', '0', '0', '9', '6', '1', '0']\n",
      "['8', '0', '0', '6', '3', '4', '9', '0', '0']\n",
      "['0', '9', '4', '0', '5', '2', '0', '0', '0']\n",
      "['3', '5', '8', '4', '6', '0', '0', '2', '0']\n",
      "['0', '0', '0', '8', '0', '0', '5', '3', '0']\n",
      "['0', '8', '0', '0', '7', '0', '0', '9', '1']\n",
      "['9', '0', '2', '1', '0', '0', '0', '0', '5']\n",
      "['0', '0', '7', '0', '4', '0', '8', '0', '2']\n",
      "-----------\n"
     ]
    }
   ],
   "source": [
    "def stringToMatrix(s):\n",
    "    return [[c for c in s[i:i+9]] for i in range(0,len(s),9)]\n",
    "mat=stringToMatrix(key)\n",
    "display(mat)"
   ]
  },
  {
   "cell_type": "code",
   "execution_count": 36,
   "id": "cea9100d",
   "metadata": {},
   "outputs": [
    {
     "name": "stdout",
     "output_type": "stream",
     "text": [
      "['6', '7', '9', '5', '1', '8', '2', '4', '3']\n",
      "['5', '4', '3', '7', '2', '9', '6', '1', '8']\n",
      "['8', '2', '1', '6', '3', '4', '9', '5', '7']\n",
      "['7', '9', '4', '3', '5', '2', '1', '8', '6']\n",
      "['3', '5', '8', '4', '6', '1', '7', '2', '9']\n",
      "['2', '1', '6', '8', '9', '7', '5', '3', '4']\n",
      "['4', '8', '5', '2', '7', '6', '3', '9', '1']\n",
      "['9', '6', '2', '1', '8', '3', '4', '7', '5']\n",
      "['1', '3', '7', '9', '4', '5', '8', '6', '2']\n",
      "-----------\n"
     ]
    }
   ],
   "source": [
    "rHash=[set() for _ in range(9)]\n",
    "cHash=[set() for _ in range(9)]\n",
    "boxHash=[set() for _ in range(9)]\n",
    "\n",
    "for i in range(len(mat)):\n",
    "    for j in range(len(mat[0])):\n",
    "        rHash[i].add(mat[i][j])\n",
    "        cHash[j].add(mat[i][j])\n",
    "        boxHash[(i//3)*3+j//3].add(mat[i][j])\n",
    "\n",
    "def backtrack(r,c,board):\n",
    "    if r==9:\n",
    "        return True\n",
    "    if c==9:\n",
    "        return backtrack(r+1,0,board)\n",
    "    if board[r][c]!=\"0\":\n",
    "        return backtrack(r,c+1,board)\n",
    "    for idx in map(str,range(1,10)):\n",
    "        bidx=(r//3)*3+c//3\n",
    "        if board[r][c]==\"0\" and idx not in rHash[r] and idx not in cHash[c] and idx not in boxHash[bidx]:\n",
    "            board[r][c]=idx\n",
    "            rHash[r].add(idx)\n",
    "            cHash[c].add(idx)\n",
    "\n",
    "            if backtrack(r,c,board):\n",
    "                return True\n",
    "            board[r][c]=\"0\"\n",
    "            rHash[r].remove(idx)\n",
    "            cHash[c].remove(idx)\n",
    "    return False\n",
    "backtrack(0,0,mat)\n",
    "display(mat)"
   ]
  },
  {
   "cell_type": "code",
   "execution_count": 37,
   "id": "c9d8d1d9",
   "metadata": {},
   "outputs": [
    {
     "name": "stdout",
     "output_type": "stream",
     "text": [
      "True\n"
     ]
    }
   ],
   "source": [
    "def boardToString(mat):\n",
    "    s=\"\"\n",
    "    for row in mat:\n",
    "        s+=''.join(row)\n",
    "    return s\n",
    "finalAns=boardToString(mat)\n",
    "print(finalAns==ans)"
   ]
  },
  {
   "cell_type": "code",
   "execution_count": 7,
   "id": "3f3ba906",
   "metadata": {},
   "outputs": [],
   "source": [
    "class sudoko:\n",
    "    def __init__(self,questions,solution) -> None:\n",
    "        self.rHash=[set() for _ in range(9)]\n",
    "        self.cHash=[set() for _ in range(9)]\n",
    "        self.boxHash=[set() for _ in range(9)]\n",
    "        \n",
    "        \n",
    "        \n",
    "        self.question=questions\n",
    "        self.solution=solution\n",
    "\n",
    "    def display(self,mat):\n",
    "        for row in mat:\n",
    "            print(row)\n",
    "        print('-----------')\n",
    "\n",
    "    def boardToString(self,mat):\n",
    "        s=\"\"\n",
    "        for row in mat:\n",
    "            s+=''.join(row)\n",
    "        return s\n",
    "\n",
    "    def stringToMatrix(self,s):\n",
    "        return [[c for c in s[i:i+9]] for i in range(0,len(s),9)]\n",
    "\n",
    "    \n",
    "    def backtrack(self,r,c,board):\n",
    "        if r==9:\n",
    "            return True\n",
    "        if c==9:\n",
    "            return self.backtrack(r+1,0,board)\n",
    "        if board[r][c]!=\"0\":\n",
    "            return self.backtrack(r,c+1,board)\n",
    "        for idx in map(str,range(1,10)):\n",
    "            bidx=(r//3)*3+c//3\n",
    "            if board[r][c]==\"0\" and idx not in self.rHash[r] and idx not in self.cHash[c] and idx not in self.boxHash[bidx]:\n",
    "                board[r][c]=idx\n",
    "                self.rHash[r].add(idx)\n",
    "                self.cHash[c].add(idx)\n",
    "\n",
    "                if self.backtrack(r,c,board):\n",
    "                    return True\n",
    "                board[r][c]=\"0\"\n",
    "                self.rHash[r].remove(idx)\n",
    "                self.cHash[c].remove(idx)\n",
    "        return False\n",
    "\n",
    "    def solveIt(self):\n",
    "        mat=self.stringToMatrix(self.question)\n",
    "\n",
    "        for i in range(len(mat)):\n",
    "            for j in range(len(mat[0])):\n",
    "                self.rHash[i].add(mat[i][j])\n",
    "                self.cHash[j].add(mat[i][j])\n",
    "                self.boxHash[(i//3)*3+j//3].add(mat[i][j])\n",
    "        \n",
    "        self.backtrack(0,0,mat)\n",
    "        finalAns=self.boardToString(mat)\n",
    "        #print(finalAns==self.solution)\n",
    "        return finalAns==self.solution"
   ]
  },
  {
   "cell_type": "code",
   "execution_count": 8,
   "id": "101592c3",
   "metadata": {},
   "outputs": [
    {
     "name": "stdout",
     "output_type": "stream",
     "text": [
      "90/98\n"
     ]
    }
   ],
   "source": [
    "import pandas as pd\n",
    "import numpy as np\n",
    "\n",
    "df=pd.read_csv('sudoko.csv')\n",
    "\n",
    "\n",
    "print(str(sum(sudoko(df.iloc[i,0],df.iloc[i,1]).solveIt() for i in range(len(df))))+\"/\"+str(len(df)))"
   ]
  },
  {
   "cell_type": "code",
   "execution_count": null,
   "id": "21db7558",
   "metadata": {},
   "outputs": [],
   "source": []
  }
 ],
 "metadata": {
  "kernelspec": {
   "display_name": "myenv",
   "language": "python",
   "name": "myenv"
  },
  "language_info": {
   "codemirror_mode": {
    "name": "ipython",
    "version": 3
   },
   "file_extension": ".py",
   "mimetype": "text/x-python",
   "name": "python",
   "nbconvert_exporter": "python",
   "pygments_lexer": "ipython3",
   "version": "3.12.7"
  }
 },
 "nbformat": 4,
 "nbformat_minor": 5
}
